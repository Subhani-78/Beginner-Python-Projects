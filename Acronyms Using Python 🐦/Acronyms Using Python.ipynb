{
 "cells": [
  {
   "cell_type": "code",
   "execution_count": 71,
   "id": "7cf9a2ca",
   "metadata": {},
   "outputs": [
    {
     "name": "stdout",
     "output_type": "stream",
     "text": [
      "\n",
      " Please enter a phrase : Hello People\n",
      "\n",
      " The acronym of Hello People is : HP\n"
     ]
    }
   ],
   "source": [
    "class Acronyms:\n",
    "    \n",
    "    def __init__(self):\n",
    "        self.__text = input(\"\\n Please enter a phrase : \")\n",
    "        \n",
    "    def con_acro(self):\n",
    "        text = self.__text.split()\n",
    "        acro = \"\"\n",
    "        for i in text:\n",
    "            acro = acro + i[0].upper()\n",
    "            \n",
    "        return \"\\n The acronym of \" + self.__text + \" is : \" + acro\n",
    "\n",
    "p = Acronyms()\n",
    "print(p.con_acro())"
   ]
  },
  {
   "cell_type": "code",
   "execution_count": null,
   "id": "1dfc687e",
   "metadata": {},
   "outputs": [],
   "source": []
  }
 ],
 "metadata": {
  "kernelspec": {
   "display_name": "Python 3",
   "language": "python",
   "name": "python3"
  },
  "language_info": {
   "codemirror_mode": {
    "name": "ipython",
    "version": 3
   },
   "file_extension": ".py",
   "mimetype": "text/x-python",
   "name": "python",
   "nbconvert_exporter": "python",
   "pygments_lexer": "ipython3",
   "version": "3.8.8"
  }
 },
 "nbformat": 4,
 "nbformat_minor": 5
}
